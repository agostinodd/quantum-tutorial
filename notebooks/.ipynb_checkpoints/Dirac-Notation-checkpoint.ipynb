{
 "cells": [
  {
   "cell_type": "markdown",
   "metadata": {},
   "source": [
    "# Dirac-Notation\n",
    "Im folgenden Kapitel erfolgt eine Einführung in die Dirac-Notation, einer der elementaren Konzepte der Quanteninformatik.\n",
    "\n",
    "In der Quantenmechanik ist die Dirac-Notation eine grundlegende Konvention zur Schreibweise von Vektoren und wird genutzt, um Zustände eines physikalischen Systems zu beschreiben [SCH, S.21]. Diese Vektoren, werden mithilfe der Dirac-Notation beschrieben, welche sich in einem speziellen Vektorraum, dem Hilbertraum, befinden.\n",
    "\n",
    "Quellen\n",
    "- [SCH]: Franz Schwabl. ”Quantenmechanik“. In: Springer 4 (2005), S. 183\n",
    "- [MÜL]: Andreas Müller. Hilbertraum. url: https://www.spektrum.de/lexikon/astronomie/hilbert-raum/177. (Aufruf: 10.12.2020).\n",
    "- [MIE]: Miedler, M. Bra-Ket-Formalismus Aufruf: 24.01.2021, from Univie.ac.at url: https://quantumparticle.univie.ac.at/fileadmin/user_upload/a_quantumparticle/BraKetHP.pdf\n",
    "\n",
    "\n"
   ]
  },
  {
   "cell_type": "markdown",
   "metadata": {},
   "source": [
    "## Einleitung\n",
    "\n",
    "In der Quantenmechanik stößt man nach kurzen Recherchen per Suchmaschine schnell auf mathematische Gleichungen, die auf dem ersten Blick erst einmal fremd wirken. Die Rede ist hier von der sogenannten Dirac-Notation und des damit einhergehenden Bra-Ket Formalismus. Doch was genau steckt dahinter?\n",
    "\n",
    "Grundsätzlich beschreiben Physiker sehr gerne Dinge in Wellenfunktionen. Gerade in der Quantenmechanik wird nahezu alles mithilfe von Wellenfunktionen beschrieben. Es gibt diese Funktionen für Elektronen, Atome, aber auch für Schrödingers-Katze.\n",
    "\n",
    "Eine Wellenfunktion kann man sich grundsätzlich als einen Vektor in einem 3-Dimensionalem Raum vorstellen. Als Beispiel kann man hier ganz einfach das Wasser in einer Badewanne nehmen. Tippt man mit dem Finger in das Wasser, so lösen sich Wellen von dieser Stelle los. Diese Wellen verlaufen nun in jede mögliche Richtung. Jede dieser möglichen Richtungen ist das Ergebnis einer Wellenfunktion und wird mathematisch dann als Vektor beschrieben.\n",
    "\n",
    "In der Quantenmechanik beschreiben die Wellenfunktionen nicht direkt Vektoren oder Richtungen in unserer \"gewohnten\" Umgebung, sondern Vektoren in einem abstrakten mathematischen Raum, dem Hilbertraum. Im Hilbertraum kommt zusätzlich hinzu, dass unsere \"Zahlen\" keine normalen Zahlen sind, wie wir sie unter Umständen aus der Grundschule kennen. Es handelt sich dabei stattdessen um Komplexe Zahlen. Im Gegensatz zu einer \"normalen\" Zahl haben komplexe Zahlen zusätzlich eine \"imaginäre\" Einheit:\n",
    " \n",
    "Da der Hilbertraum alleine schon ein sehr komplexes, aber auch großes Thema ist, verlinken wir für diejenigen, die es interessiert, eine Quelle, die das Thema behandelt.\n",
    "\n",
    "_Klick hier: https://mathepedia.de/Hilbertraum.html_\n",
    "\n",
    "Doch warum nutzt man die Dirac-Notation jetzt überhaupt?\n",
    "\n",
    "Zunächst einmal ist das unter Physikern eine Konvention. Genauso, wie es beispielsweise bei Software-Entwicklern Konventionen gibt, je nach Programmiersprache, wie einzelne Variablen benannt werden müssen, beispielsweise mithilfe der Camel-Case Notation. Zusätzlich lässt sich mithilfe der Dirac-Notation schnell erkennen, ob es sich um einen Reihenvektor oder aber um einen Spaltenvektor handelt. Das \"Bra\" beschreibt daher einen Reihenvektor, während das \"Ket\" einen Spaltenvektor beschreibt. Im nächsten Abschnitt befassen wir uns näher mit der Bra-Ket Schreibweise und befassen uns mit einer Beispielaufgabe."
   ]
  },
  {
   "cell_type": "markdown",
   "metadata": {},
   "source": [
    "## Bra-Ket\n",
    "Ein „BraKet“ besteht jeweils aus einem „Bra-Vektor“, als auch einem „Ket-Vektor“.\n",
    "$$\n",
    "Bra: \\langle\\psi| = \\alpha_0\\langle0| + \\alpha_1\\langle1| + \\alpha_n\\langle x|\n",
    "$$\n",
    "$$\n",
    "Ket: |\\psi\\rangle = \\alpha_0|0\\rangle + \\alpha_1|1\\rangle + \\alpha_n|x\\rangle\n",
    "$$\n",
    "Bei einer Basis von $B=\\{|0\\rangle, |1\\rangle\\}$ lässt sich unter anderem 1 Bit darstellen. Mithilfe dieser Notation lassen sich ebenfalls simpel sowohl Spaltenvektoren, als auch Zeilenvektoren erkennen. Ein Ket-Vektor gibt dabei einen Spaltenvektor an, während ein Bra einen Zeilenvektor angibt. Weist man einem Bra, ein Ket zu, erhält man ein „Braket“, welches das Skalarprodukt beider Vektoren ergibt. Das Skalarprodukt ergibt sich dann folgendermaßen:\n",
    "$$\n",
    "|\\phi\\rangle = \\begin{pmatrix}\\alpha_0\\\\\\alpha_1 \\end{pmatrix}\n",
    "$$\n",
    "$$\n",
    "|\\psi\\rangle = \\begin{pmatrix}\\beta_0\\\\\\beta_1 \\end{pmatrix}\n",
    "$$\n",
    "$$\n",
    "\\langle\\psi|\\phi\\rangle = \\alpha_0\\beta_0^* + \\alpha_1\\beta_1^*\n",
    "$$"
   ]
  },
  {
   "cell_type": "markdown",
   "metadata": {},
   "source": [
    "## Beispielaufgabe\n",
    "\n",
    "Im folgenden Abschnitt möchten wir eine Beispielaufgabe mithilfe der Bra-Ket Schreibweise berechnen. Das folgende Beispiel wurde von [MIE] entnommen. Mithilfe der Dirac-Notation können wir nicht nur klassische binäre Zustände darstellen, sondern auch Zustände, die keiner mathematischen Darstellung entsprechen. In dem folgenden Beispiel beschreiben wir den Zustand von Farben. Die Farben wiederum werden mathematisch beschrieben. Zunächst definieren wir unsere Basiszustände:\n",
    "$$\n",
    "Schwarz: |s\\rangle, Weiss: |w\\rangle\n",
    "$$\n",
    "Schwarz und Weiss werden in diesem Beispiel unsere Orthonormalbasis bilden. Zusätzlich müssen alle Zustandsvektoren normiert sein [MIE], was wiederum bedeutet, dass wir bereits Folgendes definieren können:\n",
    "$$\n",
    "\\langle s|s\\rangle = \\langle w|w\\rangle = 1\n",
    "$$\n",
    "$$\n",
    "\\langle s|w\\rangle = \\langle w|s\\rangle = 0\n",
    "$$\n",
    "Mithilfe dieser Voraussetzungen stellen wir nun eine Linearkombination für den Zustand „blau\" auf:\n",
    "$$\n",
    "|b\\rangle = \\frac{3}{5} |w\\rangle - \\frac{4i}{5}|s\\rangle\n",
    "$$\n",
    "Für das Rechenbeispiel möchten wir nun das Skalarprodukt $\\langle s|b\\rangle $ berechnen:\n",
    "$$\n",
    "\\langle s|b\\rangle = \\langle s|\\begin{pmatrix} \\frac{3}{5} |w\\rangle - \\frac{4i}{5}|s\\rangle \\end{pmatrix}\n",
    "$$\n",
    "$$\n",
    "\\langle s|b\\rangle = \\frac{3}{5} \\langle s|w\\rangle - \\frac{4i}{5} \\langle s|s\\rangle\n",
    "$$\n",
    "$$\n",
    "\\langle s|w\\rangle = 0\n",
    "$$\n",
    "$$\n",
    "\\langle s|s\\rangle = 1 \n",
    "$$\n",
    "$$\n",
    "\\langle s|b\\rangle = \\frac{3}{5} \\cdot 0 - \\frac{4i}{5} \\cdot 1\n",
    "$$\n",
    "$$\n",
    "\\langle s|b\\rangle = - \\frac{4i}{5}\n",
    "$$"
   ]
  },
  {
   "cell_type": "code",
   "execution_count": null,
   "metadata": {},
   "outputs": [],
   "source": []
  }
 ],
 "metadata": {
  "kernelspec": {
   "display_name": "Python 3",
   "language": "python",
   "name": "python3"
  },
  "language_info": {
   "codemirror_mode": {
    "name": "ipython",
    "version": 3
   },
   "file_extension": ".py",
   "mimetype": "text/x-python",
   "name": "python",
   "nbconvert_exporter": "python",
   "pygments_lexer": "ipython3",
   "version": "3.9.1"
  }
 },
 "nbformat": 4,
 "nbformat_minor": 4
}
