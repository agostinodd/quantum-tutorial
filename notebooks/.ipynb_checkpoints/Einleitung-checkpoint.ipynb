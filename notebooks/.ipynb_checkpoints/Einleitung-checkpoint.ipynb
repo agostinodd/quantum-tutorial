{
 "cells": [
  {
   "cell_type": "markdown",
   "metadata": {},
   "source": [
    "# Einleitung\n",
    "Zunächst heißen wir Sie recht herzlich willkommen zu diesem Quantencomputer-Tutorial. Mithilfe dieses Tutorials werden Sie in der Lage, ihre ersten Quantencomputer Schaltungen aufzubauen und die ersten elementaren Grundlagen zu erlernen, die es dafür benötigt. In diesem Kapitel möchten wir zunächst einmal den Inhalt aufzeigen und die benötigten Vorkenntnisse besprechen.\n",
    "\n",
    "In den letzten Jahren konnte man sich als Informatiker oder auch Physiker kaum dem Quantencomputer-Hype entziehen. Die theoretischen Grundlagen für einen Rechner auf Basis der Quantenmechanik gibt es bereits seit einigen Jahren [DEU],[BER],[ZAL]. Doch der andauernde Technologiekrieg der Tech-Giganten Amazon, Google, Microsoft und IBM [GIB] führt immer wieder zu neuen Schlagzeilen in dem Themengebiet. Um überhaupt zu verstehen, was uns diese Maschinen bringen könnten, muss man sich entsprechend informieren und recherchieren. Vor allem Personen ohne Physik-Hintergrund kann dies schwerfallen.\n",
    "\n",
    "Das Ziel dieses Tutorials ist es, die benötigten Grundlagen möglichst einfach zu erklären und auch Nicht-Physikern die Möglichkeit zu geben, einen Einstieg in die Grundlagen der Quantencomputer zu ermöglichen. Interessant ist das Tutorial vor allem für Informatiker, die sich für das Thema interessieren.\n",
    "\n",
    "## Benötigte Vorkentnisse\n",
    "Um ohne Probleme durch das Tutorial zu kommen, sollten bereits die Grundlagen der Linearen-Algebra bekannt sein. Zusätzlich sollten die Grundlagen vom komplexen Zahlenbereich bekannt sein. Quantenmechanische Vorkenntnisse werden für diese Einführung nicht benötigt, sind aber natürlich hilfreich.\n",
    "\n",
    "## Inhalte\n",
    "1. [Einleitung](Einleitung.ipynb): Benötigte Vorkentnisse wewrden aufgezeigt und die Inhalte aufgelistet\n",
    "2. [Dirac-Notation](Dirac-Notation.ipynb): Grundlagen der mathematischen Schreibweise\n",
    "3. [Superposition](Superposition.ipynb): Grundlagen der physikalischen Superpositionen\n",
    "4. [Quanten](Quanten.ipynb): Was ist ein Quant? Beispiele eines Quant\n",
    "5. [Qubits](Qubits.ipynb): Wie funktioniert ein Quantencomputer?\n",
    "6. [Qiskit](Qiskit.ipynb): Einführung in das Qiskit Framework\n",
    "7. [Quantenalgorithmen](Quantenalgorithmen.ipynb): Der Grove-Algorithmus in der Anwendung mithilfe von Qiskit\n",
    "\n",
    "Quellen\n",
    "- [DEU]: Deutsch, David. \"Quantencomputer.\" Die Physik der Welterkenntnis. Birkhäuser, Basel, 1996. 183-208.\n",
    "- [BER]: Berman, Gennady P. Introduction to quantum computers. World Scientific, 1998.\n",
    "- [ZAL]: Zalka, Christof. \"Simulating quantum systems on a quantum computer.\" Proceedings of the Royal Society of London. Series A: Mathematical, Physical and Engineering Sciences 454.1969 (1998): 313-322.\n",
    "- [GIB]: Gibney, Elizabeth. \"The quantum gold rush.\" Nature 574.7776 (2019): 22-24."
   ]
  },
  {
   "cell_type": "code",
   "execution_count": null,
   "metadata": {},
   "outputs": [],
   "source": []
  }
 ],
 "metadata": {
  "kernelspec": {
   "display_name": "Python 3",
   "language": "python",
   "name": "python3"
  },
  "language_info": {
   "codemirror_mode": {
    "name": "ipython",
    "version": 3
   },
   "file_extension": ".py",
   "mimetype": "text/x-python",
   "name": "python",
   "nbconvert_exporter": "python",
   "pygments_lexer": "ipython3",
   "version": "3.9.1"
  }
 },
 "nbformat": 4,
 "nbformat_minor": 4
}
