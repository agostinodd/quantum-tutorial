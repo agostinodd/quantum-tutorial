{
 "cells": [
  {
   "cell_type": "markdown",
   "metadata": {},
   "source": [
    "# Quanten\n",
    "Wenn Sie sich mit dem Thema Quantenmechanik beschäftigen, ist einer der ersten Fragen meistens, was ist denn überhaupt ein Quant? Und warum benötigen diese eine andere physikalische Beschreibung als Objekte aus der klassischen Mechanik? In dem folgenden Kapitel möchten wir einen Einblick rund um das Thema der Quanten ermöglichen und beschreiben, was an Ihnen so besonders ist.\n",
    "\n",
    "Quellen\n",
    "- [MET]: J. Grehn, J. Krause,Metzler Physik(Schroedel,2007).\n",
    "- [MÜN]: D. P. A. F. W. I. W.-A. G. (2012, 22. Juni). d. Was sind Bosonen und Fermionen? ; ; 2020 Institut für Angewandte Physik, AG Demokritov. https://www.uni-muenster.de/Physik.AP/Demokritov/Forschen/Forschungsschwerpunkte/mBECwabaf.html#:%7E:text=Teilchen%20mit%20symmetrischer%20Wellenfunktion%20werden,symmetrischer%20Wellenfunktion%20Fermionen%20genannt%20werden.&text=Die%20wichtigste%20Eigenschaft%2C%20die%20beide,selben%20Quanten%20Zustand%20einnehmen%20k%C3%B6nnen.\n",
    "- [FIL]: Filk, T., 2008. Grundlagen und Probleme der Quantenmechanik. [online] Mathphys.uni-freiburg.de. Available at: <http://www.mathphys.uni-freiburg.de/physik/filk/public_html/Skripte/Texte/Quanten.pdf> [Accessed 1 March 2021].\n",
    "- [LAN]: Landrock, H., 2021. Was ist Quantenverschränkung (bei Photonen)?. [online] Datacenter-insider.de. Available at: <https://www.datacenter-insider.de/was-ist-quantenverschraenkung-bei-photonen-a-954069/> [Accessed 1 March 2021].\n"
   ]
  },
  {
   "cell_type": "markdown",
   "metadata": {},
   "source": [
    "## Quantenobjekt\n",
    "\n",
    "In der Physik ist ein Quant ein Objekt, welches erzeugt werden kann mithilfe eines Zustandwechsels in einem System. Im Kapitel der Superpositionen wurde das auf Basis des Doppelspaltexperimentes gezeigt, wo wir sehen konnten, dass Licht mit sich selbst interferiert und wir somit ein Lichtmuster an einer Wand hinter einem Doppelspalt erkennen können. Dies geschieht, weil Licht sowohl die Eigenschaften von Wellen, aber auch von Teilchen besitzt. Physiker nennen dieses Phänomen den Welle-Teilchen Dualismus.\n",
    "\n",
    "Der Welle-Teilchen Dualismus ist die Haupteigenschaft eines Quantenobjektes. Es besagt, dass man einem Teilchen stets Welleneigenschaften nachweisen kann.\n",
    "\n",
    "Der Franzose Louis De Broglie wies das Ganze sogar mathematisch nach (MET, S. 390), indem er die Energieformeln gleichsetzte und entsprechend umformte:\n",
    "\n",
    "$$\n",
    "    E = E_{elek}\n",
    "$$\n",
    "$$\n",
    "    mc^{2}=hf \\to f=\\frac{c}{\\lambda}\n",
    "$$\n",
    "$$\n",
    "    mc^{2}=h\\frac{c}{\\lambda}\n",
    "$$\n",
    "$$\n",
    "    mc=\\frac{h}{\\lambda} \\text{ aus } mc \\text{ ergibt sich der Impuls } p\n",
    "$$\n",
    "$$\n",
    "    p=\\frac{h}{\\lambda}\n",
    "$$\n",
    "\n",
    "Doch was sagt uns diese Umformung letztendlich? Es zeigt uns die Grundsätze des Welle-Teilchen-Dualismus und beschreibt, dass Licht, um genauer zu sein Photonen Quantenobjekte sind. Dies gilt im Übrigen ebenfalls für Elektronen und alle weiteren Teilchen, denen wir anhand der mathematischen Herleitung ebenfalls Welleneigenschaften nachweisen können. Zusätzlich kommt hinzu, dass Quantenobjekte nicht denselben Regeln unterliegen wie klassische Objekte aus der Mechanik. Als Beispiel können wir hierfür wieder das Doppelspaltexperiment hinzuziehen. Prallt ein Elektron bspw. auf den Doppelspalt, so kann der aktuelle Aufenthaltsort des Elektrons nicht bestimmt werden. Es scheint, als würde das Teilchen durch beide Spalte in derselben Zeit hindurchgleiten und dann mit sich selbst interferieren.\n",
    "\n",
    "Messen wir jedoch an einem Spalt den Zustand der Elektronen, erlischt das gesamte auftretende Interferenzmuster, welches wir auf der Wand erkennen konnten. Das Elektron wirkt bei der Messung also wieder wie ein einfaches Teilchen auf uns.\n",
    "\n",
    "### Quantenzustand\n",
    "Als Quantenzustand wird in der Quantenmechanik eine Beschreibung des Zustandes eines quantenmechanischen Systems verstanden. Ein quantenmechanisches System zeichnet sich dadurch aus, dass die Objekte, die sich in diesem befinden, mehrere Zustände zur selben Zeit annehmen können. Als Beispiel können Sie sich einen Fußball vorstellen, der gerade getreten wurde. Erfahrene Fußballer können beim Schuss des Balles diesem eine Rotation mitgeben. Grundsätzlich kann der Ball in zwei Richtungen rotieren und zwar mit einem Top-Spin oder aber einem Back-Spin oder umgangssprachlich der Ball dreht sich in die Richtung des Schusses oder in die Entgegengesetzte. Doch gibt es auch Fußballer, die es geschafft haben, dass der Ball nach dem Schuss nahezu in der Luft steht und keine Rotation hat. Betrachten wir das physikalisch, haben wir immer noch eine Rotation des Balles, doch jetzt ist eine Zustandsüberlagerung des Top-Spin und des Back-Spin.\n",
    "\n",
    "Doch hier müssen wir bereits einhaken. So schön und \"einfach\" diese Erklärung sich anhört, so ist die Realität doch eine andere. Der Elektronenspin ist kein Drehimpuls, wie wir ihn normalerweise bei Objekten wie einem Ball sehen, sondern eine Beschreibung eines quantenmechanischen Zustandes. Der Vergleich mit dem Drehimpuls soll daher lediglich als Gedankenspiel helfen, um sich die unterschiedlichen wirkenden Zustände vorstellen zu können. So gibt es nämlich zwei unterschiedliche Teilchenarten. Zum einen die Bosonen, zu denen unter anderem Photonen gehören, also Lichtteilchen und die Fermionen, zu denen unter anderem auch die Elektronen gehören. Der Unterschied zwischen den Bosonen und den Fermionen liegt dabei in den Spinzahlen. Während Bosonen einen ganzzahligen Spin haben, besitzen die Fermionen lediglich einen halbzahligen Spin, also $+\\frac{1}{2}$ oder $-\\frac{1}{2}$. Während Bosonen dazu tendieren, sich eher in einem Zustand zu sammeln (MÜN), sammeln sich die Fermionen in zwei entgegengesetzten Zuständen. Hieraus ergeben sich dann die unterschiedlichen Quantenzustände für die Qubits, die wir später näher betrachten.\n",
    "\n",
    "### Messung eines Zustandes\n",
    "In der klassischen Physik messen wir Zustände mithilfe von Messinstrumenten. So messen wir die Geschwindigkeit eines fahrenden Autos und stellen beispielsweise sicher, ob sich der Fahrer des Wagens an die Geschwindigkeitsbegrenzung hält. Die Ergebnisse, die wir bei solchen Messungen erhalten, sind schon sehr exakt und bringen oft nur geringe Schwankungen mit sich.\n",
    "\n",
    "Das Prinzip der Messung eines Quantenobjektes unterliegt jedoch \"etwas\" anderen Regeln. Grundsätzlich unterscheidet man zwischen Observablen und zugehörigen Messvorschriften (FIL, S. 27). Der Hauptunterschied bei der Messung eines quantenmechanischen Objektes zu der Messung eines Objektes der klassischen Mechanik ist, dass wir üblicherweise lediglich das zu messende Objekt als das System ansehen, welches gemessen wird und aus dem wir uns bestimmte Ergebnisse erwarten.\n",
    "\n",
    "In der Quantenmechanik betrachten wir jedoch auch das Messinstrument als ein System, welches in unserer Messung eine Rolle spielt. Die Systeme sollten dabei grundsätzlich voneinander getrennt beobachtet werden. Man unterscheidet zwischen Messvorschrift und den Observablen (FIL, S.27). Bei einer quantenmechanischen Messung kommt es dazu, dass das Messinstrument bei der Messung wechselwirkt mit dem quantenmechanischen System, welches gemessen wird. Das bedeutetet, dass sich nicht nur der Zustand des quantenmechanischen Systems verändert bei der Messung, sondern auch der Zustand des Beobachters, also des Messinstrument sich ändert.\n",
    "\n",
    "Befindet sich ein System in einer Superposition, so kommt es bei der Messung des Systems dazu, dass die Superposition in einen Zustand zerfällt bei der Messung. Es zeigt sich, dass bei wiederholten Messungen der Zustand, der gemessen wird, variieren kann. Damit entstehen Wahrscheinlichkeitsverteilungen für auftretende Zustände, die aus den Superpositionen heraus entstehen können.\n"
   ]
  },
  {
   "cell_type": "markdown",
   "metadata": {},
   "source": [
    "## Quantenverschränkung\n",
    "\n",
    "Als Quantenverschränkung wird eines der unglaublichsten Phänomene der Quantenmechanik beschrieben. Als Gedankenspiel und zur Annäherung der Theorie stellen wir uns Folgendes vor: Sowohl auf dem Nordpol als auch auf dem Südpol befinden sich zwei Fußbälle (Wir greifen hier das vorherige Beispiel auf). Wie bereits beschrieben in unserer ersten Annäherung, bei der wir den Spin behandelt haben, kann der Ball, wenn dieser getreten wird, eine Rotation erhalten und eine Richtung in die der Ball geschossen wird. Die Quantenverschränkung sieht nun vor, dass unterschiedliche Quantensysteme über die exakt gleichen Zustände verfügen. Verfügen also beispielsweise zwei solcher Objekte über denselben Zustand, bezeichnet man diese als \"verschränkt\". Einstein bezeichnete dieses Verhalten als \"spukhaft\" (LAN).\n",
    "\n",
    "Doch was heißt das jetzt für unsere Bälle? Wir nehmen an, dass wir beide Bälle zum selben Zeitpunkt treten. Daraufhin werden beide Bälle exakt dieselbe Rotation, dieselbe Geschwindigkeit und dieselbe Richtung haben. Bedeutet, die Zustände beider Bälle sind identisch und ohne Zeitverzögerung. In diesem Fall sind die Bälle miteinander verschränkt. \n",
    "\n",
    "Fälschlicherweise wird oft angenommen oder spekuliert, dass der Zustand von einem Objekt A zu einem Objekt B in Überlichtgeschwindigkeit übertragen wird. Dadurch könnte der Eindruck entstehen, dass die Relativitätstheorie von Einstein verletzt sein könnte und Geschwindigkeiten, die schneller als das Licht sind, möglich sind. Doch ist das bei der Quantenverschränkung nicht der Fall. Die Informationen oder Zustände müssen bei verschränkten Objekten keine Distanz zwischen den Objekten überbrücken, sondern sind schlichtweg vorhanden.\n",
    "\n",
    "<img src=\"img/photonversch.png\" width=\"800\" />\n",
    "<center>Photonenpaar verschränkt Quelle: [LAN]</center>\n",
    "\n",
    "Im Bild erkennt man eine skizzenhafte Darstellung, wie Photonenpaare erzeugt werden können, die miteinander verschränkt sind. Die Erzeugung von verschränkten Quantenobjekten ist im Kontext der Quantencomputer eine wichtiges Element, um die Zustände von Qubits steuerbar und auswertbar machen zu können (LAN). Mithilfe von Qiskit können unter anderem auch verschränkte Objekte erzeugt werden.\n",
    "\n",
    "\n"
   ]
  },
  {
   "cell_type": "markdown",
   "metadata": {},
   "source": []
  }
 ],
 "metadata": {
  "kernelspec": {
   "display_name": "Python 3",
   "language": "python",
   "name": "python3"
  },
  "language_info": {
   "codemirror_mode": {
    "name": "ipython",
    "version": 3
   },
   "file_extension": ".py",
   "mimetype": "text/x-python",
   "name": "python",
   "nbconvert_exporter": "python",
   "pygments_lexer": "ipython3",
   "version": "3.8.8"
  }
 },
 "nbformat": 4,
 "nbformat_minor": 4
}
