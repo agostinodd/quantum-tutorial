{
 "cells": [
  {
   "cell_type": "markdown",
   "metadata": {},
   "source": [
    "# Superpositionen\n",
    "Im folgenden Kapitel wird das Grundprinzip der Superpositionen thematisiert, die der elementare Bestandteil der Vorteile von Quantencomputern darstellen. Das Superpositionsprinzip ist ein Physikalisches Konzept, bei dem eine messbare Größe über mehrere Zustände gleichzeitig verfügt, die sich gegenseitig nicht behindern. Die Superpositionen beschreiben innerhalb der Quantenmechanik den Zustand eines Quantenobjektes. Eine wichtige Eigenschaft der Quantenmechanik beschreibt Schrödingersgleichung [BRU]. Kennt man zwei Lösungen der Gleichungen so ist die Summe der Lösungen immer auch eine Lösung von Schrödingersgleichung. \n",
    "Als vereinfachtes und wohlmöglich das bekannteste Beispiel, ist das Gedankenexperiment von Erwin Schrödinger. Bei dem Gedankenspiel befindet sich eine Katze innerhalb einer Kiste mit einer Phiole, die Gift enthält [GRI]. Innerhalb der Quantenmechanik tritt nun das Phänomen auf, dass so lange der Zustand der Katze nicht gemessen wird, man unmöglich den Zustand der Katze feststellen kann. Das Gift hat die Katze weder getötet, noch wurde die Katze nicht getötet [GRI].\n",
    "\n",
    "Quellen:\n",
    "- [GRI]: John Gribbin. Auf der Suche nach Schrödingers Katze: Quantenphysik und Wirklichkeit. Piper, 2015.\n",
    "- [BRU]: Dagmar Bruß. Quanteninformation. FISCHER Taschenbuch, 2015.\n",
    "- [PHY]: Leifi Physik. Doppelspalt. url: https://www.leifiphysik.de/optik/beugung-und-interferenz/versuche/doppelspalt. (Aufruf: 10.12.2020).\n",
    "- [DEX]: ”Das Doppelspaltexperiment“. In: Skurrile Quantenwelt. Berlin, Heidelberg: Springer Berlin Heidelberg, 2006, S. 33–41. isbn: 978-3-540- 29721-5. doi: 10.1007/3-540-29721-9_5. url: https://doi.org/10.1007/3-540-29721-9_5.(Aufruf: 10.12.2020)"
   ]
  },
  {
   "cell_type": "markdown",
   "metadata": {},
   "source": [
    "## Beispiel Doppelspalt\n",
    "Um das Superpositionsprinzip nicht nur als Gedankenexperiment vorzustellen, soll das Doppelspalt Experiment visuell darstellen, wie sich Superpositionen auswirken können. Mithilfe des Doppelspalt lässt sich der Welle-Teilchen- Dualismus nachweisen. Entwickelt wurde das Experiment von Thomas Young.\n",
    "\n",
    "<img src=\"doppelspalt.png\" width=\"800\" />\n",
    "<center>Doppelspalt Versuchsaufbau Quelle: [PHY]</center>\n",
    "\n",
    "![Doppelspalt](doppelspalt.png)\n",
    "<figcaption style=\"font-size: 0.9rem; text-align:center;\">Doppelspalt Versuchsaufbau <br> Quelle: [PHY]</figcaption>\n",
    "\n",
    "\n",
    "Die Abbildung zeigt einen Laser, der einen monochromatischem Lichtstrahl erzeugt, welcher auf einen Doppelspalt strahlt. Hinter dem Doppelspalt befindet sich ein Schirm, auf dem dann das Ergebnis des Versuches zu sehen ist. Die Versuchsobjekte befinden sich dabei auf einer Optischen Bank oder einer ähnlichen Schiene. Der erzeugte Lichtstrahl vom Laser trifft beim Versuchsablauf auf den Doppelspalt. Die Lichtwelle, die auf den Doppelspalt trifft, bricht und es entstehen je Spalt Lichtwellen, die gegenseitig interferieren. Thomas Young soll auf die Versuchsidee gekommen sein, indem er Enten in einem Teich beobachtete. Die dabei entstehenden Wasserwellen schienen zu interferieren. Daraufhin entschied er sich einen Versuch aufzubauen mit Licht [DEX, S. 34]. Das Ergebnis ist dementsprechend auf dem Schirm zu sehen:\n",
    "\n",
    "![Interferenz](interferenz.png)\n",
    "<figcaption style=\"font-size: 0.9rem; text-align:center;\">Interferenz <br> Quelle: [PHY]</figcaption>\n",
    "\n",
    "Die Abbildung zeigt uns das auftretende Interferenzmuster auf. Es zeigt Stellen an die Licht aufzeigen (Maxima) und Stellen, die kein Licht beinhalten (Minima). Durch den gebrochenen Lichtstrahl interferiert das Laserlicht mit sich selbst. Dadurch treffen Wellentäler als auch Wellenberge aufeinander. Trifft ein Tal auf einen Berg, ist das Ergebnis 0 und somit erhalten wir unsere Minima. Treffen zwei Berge aufeinander, so addieren sich diese und wir können das Licht auf dem Schirm beobachten. Interessant ist dabei zu erkennen, dass umso weiter weg man sich vom Mittelpunkt entfernt die Maxima kleiner werden, was darauf hinweist, dass die Wellenberge schwächer werden, umso weiter man sich vom 0. Maximum (der Mitte) entfernt. Die aufgezeigten Maxima, als auch Minima sind daher Superpositionen.\n",
    "\n",
    "Solche Superpositionen sind essenzieller Bestandteil der Quantencomputer. Bereits im Kapitel der Dirac-Notation haben wir das Prinzip der Superposition angewandt, indem wir Farbzustände wie Blau mithilfe einer Linearkombiniation definiert haben.\n"
   ]
  },
  {
   "cell_type": "code",
   "execution_count": null,
   "metadata": {},
   "outputs": [],
   "source": []
  }
 ],
 "metadata": {
  "kernelspec": {
   "display_name": "Python 3",
   "language": "python",
   "name": "python3"
  },
  "language_info": {
   "codemirror_mode": {
    "name": "ipython",
    "version": 3
   },
   "file_extension": ".py",
   "mimetype": "text/x-python",
   "name": "python",
   "nbconvert_exporter": "python",
   "pygments_lexer": "ipython3",
   "version": "3.8.8"
  }
 },
 "nbformat": 4,
 "nbformat_minor": 4
}
